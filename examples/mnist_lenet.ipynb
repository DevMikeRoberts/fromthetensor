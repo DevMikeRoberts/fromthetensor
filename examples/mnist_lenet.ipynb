{
 "cells": [
  {
   "cell_type": "markdown",
   "metadata": {},
   "source": [
    "A rough copy of https://blog.paperspace.com/writing-lenet5-from-scratch-in-python/"
   ]
  },
  {
   "cell_type": "code",
   "execution_count": 1,
   "metadata": {},
   "outputs": [
    {
     "name": "stdout",
     "output_type": "stream",
     "text": [
      "env: GPU=1\n"
     ]
    }
   ],
   "source": [
    "%set_env GPU=1"
   ]
  },
  {
   "cell_type": "code",
   "execution_count": 2,
   "metadata": {},
   "outputs": [],
   "source": [
    "import numpy as np\n",
    "from PIL import Image\n",
    "from tinygrad.nn import Conv2d, BatchNorm2d, Linear, optim\n",
    "from datasets import fetch_mnist\n",
    "from extra.training import train, evaluate"
   ]
  },
  {
   "cell_type": "code",
   "execution_count": 3,
   "metadata": {},
   "outputs": [],
   "source": [
    "class LeNet5:\n",
    "    def __init__(self):\n",
    "        self.conv1 = Conv2d(1, 6, 5)\n",
    "        self.bn1 = BatchNorm2d(6)\n",
    "        self.conv2 = Conv2d(6, 16, 5)\n",
    "        self.bn2 = BatchNorm2d(16)\n",
    "        self.fc1 = Linear(400, 120)\n",
    "        self.fc2 = Linear(120, 84)\n",
    "        self.fc3 = Linear(84, 10)\n",
    "    \n",
    "    def __call__(self, x):\n",
    "        x = self.bn1(self.conv1(x)).relu().max_pool2d(stride=2)\n",
    "        x = self.bn2(self.conv2(x)).relu().max_pool2d(stride=2)\n",
    "        x = x.reshape(x.shape[0], -1)\n",
    "        x = self.fc1(x).relu()\n",
    "        x = self.fc2(x).relu()\n",
    "        x = self.fc3(x).log_softmax()\n",
    "        return x"
   ]
  },
  {
   "cell_type": "code",
   "execution_count": 4,
   "metadata": {},
   "outputs": [],
   "source": [
    "def transform(x):\n",
    "    x = [Image.fromarray(xx).resize((32, 32)) for xx in x]\n",
    "    x = np.stack([np.asarray(xx) for xx in x], axis=0)\n",
    "    x = x.reshape(-1, 1, 32, 32)\n",
    "    return x"
   ]
  },
  {
   "cell_type": "code",
   "execution_count": 5,
   "metadata": {},
   "outputs": [
    {
     "name": "stderr",
     "output_type": "stream",
     "text": [
      "loss 0.02 accuracy 0.99: 100%|█████████████████████████████████████████| 1000/1000 [00:32<00:00, 31.18it/s]\n",
      "100%|█████████████████████████████████████████████████████████████████████| 79/79 [00:00<00:00, 117.49it/s]"
     ]
    },
    {
     "name": "stdout",
     "output_type": "stream",
     "text": [
      "test set accuracy is 0.980300\n"
     ]
    },
    {
     "name": "stderr",
     "output_type": "stream",
     "text": [
      "\n"
     ]
    }
   ],
   "source": [
    "X_train, Y_train, X_test, Y_test = fetch_mnist()\n",
    "X_train = X_train.reshape(-1, 28, 28) / 255.0\n",
    "X_test = X_test.reshape(-1, 28, 28) / 255.0\n",
    "\n",
    "model = LeNet5()\n",
    "optimizer = optim.AdamW(optim.get_parameters(model), lr=0.001, wd=0.0005)\n",
    "train(model, X_train, Y_train, optimizer, 1000, BS=128, transform=transform)\n",
    "evaluate(model, X_test, Y_test, transform=transform);"
   ]
  },
  {
   "cell_type": "code",
   "execution_count": null,
   "metadata": {},
   "outputs": [],
   "source": []
  }
 ],
 "metadata": {
  "kernelspec": {
   "display_name": "Python 3 (ipykernel)",
   "language": "python",
   "name": "python3"
  },
  "language_info": {
   "codemirror_mode": {
    "name": "ipython",
    "version": 3
   },
   "file_extension": ".py",
   "mimetype": "text/x-python",
   "name": "python",
   "nbconvert_exporter": "python",
   "pygments_lexer": "ipython3",
   "version": "3.11.2"
  }
 },
 "nbformat": 4,
 "nbformat_minor": 4
}
