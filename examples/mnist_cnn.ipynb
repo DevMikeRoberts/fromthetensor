{
 "cells": [
  {
   "cell_type": "code",
   "execution_count": 1,
   "metadata": {},
   "outputs": [
    {
     "name": "stdout",
     "output_type": "stream",
     "text": [
      "ops_triton not available No module named 'pycuda'\n"
     ]
    }
   ],
   "source": [
    "import os\n",
    "\n",
    "import numpy as np\n",
    "from tqdm import trange\n",
    "from tinygrad.nn import Conv2d, Linear, optim\n",
    "from tinygrad.tensor import Tensor\n",
    "from extra.training import train, evaluate\n",
    "from datasets import fetch_mnist"
   ]
  },
  {
   "cell_type": "code",
   "execution_count": 2,
   "metadata": {},
   "outputs": [],
   "source": [
    "os.environ[\"GPU\"] = \"1\"\n",
    "os.environ[\"CL_DEVICE\"] = \"1\"\n",
    "np.random.seed(1337)"
   ]
  },
  {
   "cell_type": "code",
   "execution_count": 3,
   "metadata": {},
   "outputs": [],
   "source": [
    "class ConvNet:\n",
    "\n",
    "    def __init__(self):\n",
    "        self.conv1 = Conv2d(1, 32, 5)\n",
    "        self.conv2 = Conv2d(32, 64, 5)\n",
    "        self.fc1 = Linear(4 * 4 * 64, 128)\n",
    "        self.fc2 = Linear(128, 10)\n",
    "    \n",
    "    def __call__(self, x: Tensor) -> Tensor:\n",
    "        x = self.conv1(x).relu().max_pool2d(kernel_size=(2, 2))\n",
    "        x = self.conv2(x).relu().max_pool2d(kernel_size=(2, 2))\n",
    "        x = x.reshape(-1, 4 * 4 * 64)\n",
    "        x = self.fc1(x).relu()\n",
    "        x = self.fc2(x).logsoftmax()\n",
    "        return x"
   ]
  },
  {
   "cell_type": "code",
   "execution_count": 4,
   "metadata": {},
   "outputs": [],
   "source": [
    "X_train, Y_train, X_test, Y_test = fetch_mnist()\n",
    "X_train = X_train.reshape(-1, 1, 28, 28) / 255.0\n",
    "X_test = X_test.reshape(-1, 1, 28, 28) / 255.0\n",
    "model = ConvNet()\n",
    "optimizer = optim.Adam(optim.get_parameters(model), lr=0.01)"
   ]
  },
  {
   "cell_type": "code",
   "execution_count": 5,
   "metadata": {},
   "outputs": [
    {
     "name": "stderr",
     "output_type": "stream",
     "text": [
      "loss 0.06 accuracy 0.98: 100%|██████████| 50/50 [00:24<00:00,  2.03it/s]\n"
     ]
    }
   ],
   "source": [
    "train(model, X_train, Y_train, optimizer, 50, BS=64)"
   ]
  },
  {
   "cell_type": "code",
   "execution_count": 6,
   "metadata": {},
   "outputs": [
    {
     "name": "stderr",
     "output_type": "stream",
     "text": [
      "100%|██████████| 79/79 [00:19<00:00,  4.09it/s]"
     ]
    },
    {
     "name": "stdout",
     "output_type": "stream",
     "text": [
      "test set accuracy is 0.952300\n"
     ]
    },
    {
     "name": "stderr",
     "output_type": "stream",
     "text": [
      "\n"
     ]
    }
   ],
   "source": [
    "evaluate(model, X_test, Y_test);"
   ]
  },
  {
   "cell_type": "code",
   "execution_count": null,
   "metadata": {},
   "outputs": [],
   "source": []
  }
 ],
 "metadata": {
  "kernelspec": {
   "display_name": "Python 3",
   "language": "python",
   "name": "python3"
  },
  "language_info": {
   "codemirror_mode": {
    "name": "ipython",
    "version": 3
   },
   "file_extension": ".py",
   "mimetype": "text/x-python",
   "name": "python",
   "nbconvert_exporter": "python",
   "pygments_lexer": "ipython3",
   "version": "3.10.9"
  },
  "orig_nbformat": 4,
  "vscode": {
   "interpreter": {
    "hash": "aee8b7b246df8f9039afb4144a1f6fd8d2ca17a180786b69acc140d282b71a49"
   }
  }
 },
 "nbformat": 4,
 "nbformat_minor": 2
}
