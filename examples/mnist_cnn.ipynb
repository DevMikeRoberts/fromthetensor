{
 "cells": [
  {
   "cell_type": "code",
   "execution_count": 5,
   "metadata": {},
   "outputs": [],
   "source": [
    "import os\n",
    "import numpy as np\n",
    "from tqdm import trange\n",
    "from tinygrad.nn import Conv2d, Linear, optim\n",
    "from tinygrad.tensor import Tensor\n",
    "from datasets import fetch_mnist\n",
    "from extra.training import train, evaluate\n",
    "np.random.seed(1337)\n",
    "Tensor.manual_seed(1337)"
   ]
  },
  {
   "cell_type": "code",
   "execution_count": 6,
   "metadata": {},
   "outputs": [],
   "source": [
    "class ConvNet:\n",
    "    def __init__(self):\n",
    "        self.conv1 = Conv2d(1, 10, 5)\n",
    "        self.conv2 = Conv2d(10, 20, 5)\n",
    "        self.fc1 = Tensor.scaled_uniform(320, 50)\n",
    "        self.fc2 = Tensor.scaled_uniform(50, 10)\n",
    "    \n",
    "    def __call__(self, x: Tensor) -> Tensor:\n",
    "        x = self.conv1(x).relu().max_pool2d(kernel_size=(2, 2))\n",
    "        x = self.conv2(x).relu().max_pool2d(kernel_size=(2, 2))\n",
    "        x = x.reshape(-1, 320)\n",
    "        x = x.dot(self.fc1).relu()\n",
    "        x = x.dot(self.fc2).logsoftmax()\n",
    "        return x"
   ]
  },
  {
   "cell_type": "code",
   "execution_count": 7,
   "metadata": {},
   "outputs": [
    {
     "name": "stderr",
     "output_type": "stream",
     "text": [
      "loss 0.13 accuracy 0.95: 100%|██████████| 100/100 [00:52<00:00,  1.92it/s]\n",
      "100%|██████████| 79/79 [00:07<00:00, 10.55it/s]"
     ]
    },
    {
     "name": "stdout",
     "output_type": "stream",
     "text": [
      "test set accuracy is 0.960400\n"
     ]
    },
    {
     "name": "stderr",
     "output_type": "stream",
     "text": [
      "\n"
     ]
    }
   ],
   "source": [
    "X_train, Y_train, X_test, Y_test = fetch_mnist()\n",
    "X_train = X_train.reshape(-1, 1, 28, 28) / 255.0\n",
    "X_test = X_test.reshape(-1, 1, 28, 28) / 255.0\n",
    "\n",
    "model = ConvNet()\n",
    "optimizer = optim.Adam(optim.get_parameters(model), lr=0.005)\n",
    "\n",
    "train(model, X_train, Y_train, optimizer, 100, BS=256)\n",
    "evaluate(model, X_test, Y_test);"
   ]
  },
  {
   "cell_type": "code",
   "execution_count": null,
   "metadata": {},
   "outputs": [],
   "source": []
  },
  {
   "cell_type": "code",
   "execution_count": null,
   "metadata": {},
   "outputs": [],
   "source": []
  },
  {
   "cell_type": "code",
   "execution_count": null,
   "metadata": {},
   "outputs": [],
   "source": []
  }
 ],
 "metadata": {
  "kernelspec": {
   "display_name": "Python 3",
   "language": "python",
   "name": "python3"
  },
  "language_info": {
   "codemirror_mode": {
    "name": "ipython",
    "version": 3
   },
   "file_extension": ".py",
   "mimetype": "text/x-python",
   "name": "python",
   "nbconvert_exporter": "python",
   "pygments_lexer": "ipython3",
   "version": "3.10.10"
  },
  "orig_nbformat": 4,
  "vscode": {
   "interpreter": {
    "hash": "7e1998ff7f8aa20ada591c520b972326324e5ea05489af9e422744c7c09f6dad"
   }
  }
 },
 "nbformat": 4,
 "nbformat_minor": 2
}
