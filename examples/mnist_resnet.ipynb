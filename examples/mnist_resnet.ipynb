{
 "cells": [
  {
   "cell_type": "code",
   "execution_count": 1,
   "metadata": {},
   "outputs": [
    {
     "data": {
      "text/plain": [
       "<torch._C.Generator at 0x10bc77cf0>"
      ]
     },
     "execution_count": 1,
     "metadata": {},
     "output_type": "execute_result"
    }
   ],
   "source": [
    "import numpy as np\n",
    "from tqdm import trange\n",
    "import torch\n",
    "from torch import nn\n",
    "import torch.nn.functional as F\n",
    "from datasets import fetch_mnist\n",
    "from extra.training import train, evaluate\n",
    "np.random.seed(1337)\n",
    "torch.manual_seed(1337)"
   ]
  },
  {
   "cell_type": "code",
   "execution_count": 2,
   "metadata": {},
   "outputs": [],
   "source": [
    "class BasicBlock(nn.Module):\n",
    "    def __init__(self, inplanes, planes, stride=1, downsample=None):\n",
    "        super().__init__()\n",
    "        self.conv1 = nn.Conv2d(inplanes, planes, 3, stride=stride, padding=1, bias=False)\n",
    "        self.bn1 = nn.BatchNorm2d(planes)\n",
    "        self.conv2 = nn.Conv2d(planes, planes, 3, stride=1, padding=1, bias=False)\n",
    "        self.bn2 = nn.BatchNorm2d(planes)\n",
    "        self.downsample = downsample\n",
    "    \n",
    "    def __call__(self, x):\n",
    "        out = F.relu(self.bn1(self.conv1(x)))\n",
    "        out = self.bn2(self.conv2(out))\n",
    "        if self.downsample is not None:\n",
    "            x = self.downsample(x)\n",
    "        out = (out + x).relu()\n",
    "        return out"
   ]
  },
  {
   "cell_type": "code",
   "execution_count": 3,
   "metadata": {},
   "outputs": [],
   "source": [
    "class ResNet(nn.Module):\n",
    "    def __init__(self):\n",
    "        super().__init__()\n",
    "        self.inplanes = 64\n",
    "        self.conv1 = nn.Conv2d(1, 64, 7, stride=2, padding=3, bias=False)\n",
    "        self.bn1 = nn.BatchNorm2d(64)\n",
    "        self.maxpool = nn.MaxPool2d(3, stride=2, padding=1)\n",
    "        self.layer1 = self._make_layer(64, 2, stride=1)\n",
    "        self.layer2 = self._make_layer(128, 2, stride=2)\n",
    "        self.layer3 = self._make_layer(256, 2, stride=2)\n",
    "        self.layer4 = self._make_layer(512, 2, stride=2)\n",
    "        self.fc = nn.Linear(512, 10)\n",
    "    \n",
    "    def _make_layer(self, planes, blocks, stride=1):\n",
    "        downsample = None\n",
    "        if stride != 1 or self.inplanes != planes:\n",
    "            downsample = nn.Sequential(\n",
    "                nn.Conv2d(self.inplanes, planes, 1, stride=stride, bias=False), nn.BatchNorm2d(planes)\n",
    "            )\n",
    "        layers = [BasicBlock(self.inplanes, planes, stride, downsample)]\n",
    "        self.inplanes = planes\n",
    "        for _ in range(1, blocks):\n",
    "            layers.append(BasicBlock(self.inplanes, planes))\n",
    "        return nn.Sequential(*layers)\n",
    "    \n",
    "    def __call__(self, x):\n",
    "        x = F.relu(self.bn1(self.conv1(x)))\n",
    "        x = self.maxpool(x)\n",
    "        for layer in (self.layer1, self.layer2, self.layer3, self.layer4):\n",
    "            x = layer(x)\n",
    "        x = x.reshape(x.shape[0], -1)\n",
    "        return x"
   ]
  },
  {
   "cell_type": "code",
   "execution_count": 4,
   "metadata": {},
   "outputs": [],
   "source": [
    "def train(model, X_train, Y_train, optim, steps, BS=128, lossfn=F.cross_entropy):\n",
    "    model.train()\n",
    "    for i in (t := trange(steps)):\n",
    "        sample = np.random.randint(0, high=X_train.shape[0], size=(BS))\n",
    "        x = torch.tensor(X_train[sample])\n",
    "        y = torch.tensor(Y_train[sample])\n",
    "        out = model(x)\n",
    "        loss = lossfn(out, y)\n",
    "        optim.zero_grad()\n",
    "        loss.backward()\n",
    "        optim.step()\n",
    "        cat = torch.argmax(out, dim=1)\n",
    "        accuracy = (cat == y).float().mean()\n",
    "        loss = loss.item()\n",
    "        t.set_description(f\"loss {loss:.2f} accuracy {accuracy:.2f}\")\n",
    "\n",
    "\n",
    "def evaluate(model, X_test, Y_test, num_classes=10, BS=128):\n",
    "    model.eval()\n",
    "    out = model(torch.tensor(X_test))\n",
    "    preds = torch.argmax(out, dim=1).numpy()\n",
    "    accuracy = (Y_test == preds).mean()\n",
    "    print(f\"test set accuracy is {accuracy}\")"
   ]
  },
  {
   "cell_type": "code",
   "execution_count": 5,
   "metadata": {},
   "outputs": [
    {
     "name": "stderr",
     "output_type": "stream",
     "text": [
      "loss 0.02 accuracy 1.00: 100%|██████████| 1000/1000 [14:51<00:00,  1.12it/s]\n"
     ]
    },
    {
     "name": "stdout",
     "output_type": "stream",
     "text": [
      "test set accuracy is 0.989\n"
     ]
    },
    {
     "name": "stderr",
     "output_type": "stream",
     "text": [
      "loss 0.01 accuracy 1.00: 100%|██████████| 1000/1000 [15:44<00:00,  1.06it/s]\n"
     ]
    },
    {
     "name": "stdout",
     "output_type": "stream",
     "text": [
      "test set accuracy is 0.9884\n"
     ]
    },
    {
     "name": "stderr",
     "output_type": "stream",
     "text": [
      "loss 0.01 accuracy 1.00: 100%|██████████| 1000/1000 [16:13<00:00,  1.03it/s]\n"
     ]
    },
    {
     "name": "stdout",
     "output_type": "stream",
     "text": [
      "test set accuracy is 0.9934\n"
     ]
    },
    {
     "name": "stderr",
     "output_type": "stream",
     "text": [
      "loss 0.00 accuracy 1.00: 100%|██████████| 1000/1000 [16:16<00:00,  1.02it/s]\n"
     ]
    },
    {
     "name": "stdout",
     "output_type": "stream",
     "text": [
      "test set accuracy is 0.9943\n"
     ]
    },
    {
     "name": "stderr",
     "output_type": "stream",
     "text": [
      "loss 0.02 accuracy 0.99: 100%|██████████| 1000/1000 [15:19<00:00,  1.09it/s]\n"
     ]
    },
    {
     "name": "stdout",
     "output_type": "stream",
     "text": [
      "test set accuracy is 0.9947\n"
     ]
    }
   ],
   "source": [
    "X_train, Y_train, X_test, Y_test = fetch_mnist()\n",
    "X_train = X_train.reshape(-1, 1, 28, 28) / 255.0\n",
    "X_test = X_test.reshape(-1, 1, 28, 28) / 255.0\n",
    "\n",
    "model = ResNet()\n",
    "learning_rate = 0.001\n",
    "\n",
    "for _ in range(5):\n",
    "    optimizer = torch.optim.Adam(model.parameters(), lr=learning_rate)\n",
    "    train(model, X_train, Y_train, optimizer, 1000, BS=128)\n",
    "    evaluate(model, X_test, Y_test)\n",
    "    learning_rate /= 3"
   ]
  },
  {
   "cell_type": "code",
   "execution_count": null,
   "metadata": {},
   "outputs": [],
   "source": []
  }
 ],
 "metadata": {
  "kernelspec": {
   "display_name": "Python 3",
   "language": "python",
   "name": "python3"
  },
  "language_info": {
   "codemirror_mode": {
    "name": "ipython",
    "version": 3
   },
   "file_extension": ".py",
   "mimetype": "text/x-python",
   "name": "python",
   "nbconvert_exporter": "python",
   "pygments_lexer": "ipython3",
   "version": "3.10.10"
  },
  "orig_nbformat": 4,
  "vscode": {
   "interpreter": {
    "hash": "aee8b7b246df8f9039afb4144a1f6fd8d2ca17a180786b69acc140d282b71a49"
   }
  }
 },
 "nbformat": 4,
 "nbformat_minor": 2
}
