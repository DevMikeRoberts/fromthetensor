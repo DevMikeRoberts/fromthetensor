{
 "cells": [
  {
   "cell_type": "markdown",
   "metadata": {},
   "source": [
    "A rough copy of https://blog.paperspace.com/alexnet-pytorch/"
   ]
  },
  {
   "cell_type": "code",
   "execution_count": 1,
   "metadata": {},
   "outputs": [],
   "source": [
    "import numpy as np\n",
    "from PIL import Image\n",
    "import torch\n",
    "from torch import nn\n",
    "import torch.nn.functional as F\n",
    "from datasets import fetch_cifar\n",
    "from helpers import get_gpu, train, evaluate\n",
    "torch.manual_seed(1337)\n",
    "device = get_gpu()"
   ]
  },
  {
   "cell_type": "code",
   "execution_count": 2,
   "metadata": {},
   "outputs": [],
   "source": [
    "class AlexNet(nn.Module):\n",
    "    def __init__(self):\n",
    "        super().__init__()\n",
    "        self.conv1 = nn.Conv2d(3, 96, 11, stride=4)\n",
    "        self.bn1 = nn.BatchNorm2d(96)\n",
    "        self.conv2 = nn.Conv2d(96, 256, 5, padding=2)\n",
    "        self.bn2 = nn.BatchNorm2d(256)\n",
    "        self.conv3 = nn.Conv2d(256, 384, 3, padding=1)\n",
    "        self.bn3 = nn.BatchNorm2d(384)\n",
    "        self.conv4 = nn.Conv2d(384, 384, 3, padding=1)\n",
    "        self.bn4 = nn.BatchNorm2d(384)\n",
    "        self.conv5 = nn.Conv2d(384, 256, 3, padding=1)\n",
    "        self.bn5 = nn.BatchNorm2d(256)\n",
    "        self.fc1 = nn.Linear(9216, 4096)\n",
    "        self.fc2 = nn.Linear(4096, 4096)\n",
    "        self.fc3 = nn.Linear(4096, 10)\n",
    "    \n",
    "    def __call__(self, x):\n",
    "        x = F.max_pool2d(self.bn1(self.conv1(x)).relu(), 3, stride=2)\n",
    "        x = F.max_pool2d(self.bn2(self.conv2(x)).relu(), 3, stride=2)\n",
    "        x = self.bn3(self.conv3(x)).relu()\n",
    "        x = self.bn4(self.conv4(x)).relu()\n",
    "        x = F.max_pool2d(self.bn5(self.conv5(x)).relu(), 3, stride=2)\n",
    "        x = x.reshape(x.shape[0], -1)\n",
    "        x = self.fc1(F.dropout(x)).relu()\n",
    "        x = self.fc2(F.dropout(x)).relu()\n",
    "        x = self.fc3(x)\n",
    "        return x"
   ]
  },
  {
   "cell_type": "code",
   "execution_count": 3,
   "metadata": {},
   "outputs": [],
   "source": [
    "def transform(x):\n",
    "    x = [[Image.fromarray(z).resize((227, 227)) for z in y] for y in x]\n",
    "    x = np.stack([np.stack([np.asarray(z) for z in y], axis=0) for y in x], axis=0)\n",
    "    x = x.reshape(-1, 3, 227, 227)\n",
    "    return x"
   ]
  },
  {
   "cell_type": "code",
   "execution_count": 4,
   "metadata": {},
   "outputs": [
    {
     "name": "stderr",
     "output_type": "stream",
     "text": [
      "loss 0.25 accuracy 0.89: 100%|███████████████████████████████████████| 10000/10000 [44:10<00:00,  3.77it/s]\n",
      "100%|██████████████████████████████████████████████████████████████████████| 79/79 [00:16<00:00,  4.73it/s]"
     ]
    },
    {
     "name": "stdout",
     "output_type": "stream",
     "text": [
      "test set accuracy is 0.8189\n"
     ]
    },
    {
     "name": "stderr",
     "output_type": "stream",
     "text": [
      "\n"
     ]
    }
   ],
   "source": [
    "(X_train, Y_train), (X_test, Y_test) = fetch_cifar(), fetch_cifar(train=False)\n",
    "model = AlexNet().to(device)\n",
    "optimizer = torch.optim.SGD(model.parameters(), lr=0.005, weight_decay=0.0005, momentum=0.9)\n",
    "train(model, X_train, Y_train, optimizer, 10000, BS=64, transform=transform, device=device)\n",
    "evaluate(model, X_test, Y_test, transform=transform, device=device)"
   ]
  },
  {
   "cell_type": "code",
   "execution_count": null,
   "metadata": {},
   "outputs": [],
   "source": []
  }
 ],
 "metadata": {
  "kernelspec": {
   "display_name": "Python 3 (ipykernel)",
   "language": "python",
   "name": "python3"
  },
  "language_info": {
   "codemirror_mode": {
    "name": "ipython",
    "version": 3
   },
   "file_extension": ".py",
   "mimetype": "text/x-python",
   "name": "python",
   "nbconvert_exporter": "python",
   "pygments_lexer": "ipython3",
   "version": "3.11.2"
  }
 },
 "nbformat": 4,
 "nbformat_minor": 4
}
