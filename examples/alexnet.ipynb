{
 "cells": [
  {
   "cell_type": "code",
   "execution_count": 1,
   "metadata": {},
   "outputs": [],
   "source": [
    "import numpy as np\n",
    "from PIL import Image\n",
    "from tinygrad.tensor import Tensor\n",
    "from tinygrad.nn import Conv2d, BatchNorm2d, optim\n",
    "from datasets import fetch_cifar\n",
    "from extra.training import train, evaluate"
   ]
  },
  {
   "cell_type": "code",
   "execution_count": 2,
   "metadata": {},
   "outputs": [],
   "source": [
    "class AlexNet:\n",
    "    def __init__(self):\n",
    "        self.conv1 = Conv2d(3, 96, 11, stride=4)\n",
    "        self.bn1 = BatchNorm2d(96)\n",
    "        self.conv2 = Conv2d(96, 256, 5, padding=2)\n",
    "        self.bn2 = BatchNorm2d(256)\n",
    "        self.conv3 = Conv2d(256, 384, 3, padding=1)\n",
    "        self.bn3 = BatchNorm2d(384)\n",
    "        self.conv4 = Conv2d(384, 384, 3, padding=1)\n",
    "        self.bn4 = BatchNorm2d(384)\n",
    "        self.conv5 = Conv2d(384, 256, 3, padding=1)\n",
    "        self.bn5 = BatchNorm2d(256)\n",
    "        self.fc1 = {\"weight\": Tensor.scaled_uniform(9216, 4096), \"bias\": Tensor.zeros(4096)}\n",
    "        self.fc2 = {\"weight\": Tensor.scaled_uniform(4096, 4096), \"bias\": Tensor.zeros(4096)}\n",
    "        self.fc3 = {\"weight\": Tensor.scaled_uniform(4096, 10), \"bias\": Tensor.zeros(10)}\n",
    "    \n",
    "    def __call__(self, x):\n",
    "        x = self.bn1(self.conv1(x)).relu().max_pool2d((3, 3), stride=2)\n",
    "        x = self.bn2(self.conv2(x)).relu().max_pool2d((3, 3), stride=2)\n",
    "        x = self.bn3(self.conv3(x)).relu()\n",
    "        x = self.bn4(self.conv4(x)).relu()\n",
    "        x = self.bn5(self.conv5(x)).relu().max_pool2d((3, 3), stride=2)\n",
    "        x = x.reshape(x.shape[0], -1)\n",
    "        x = x.dropout(0.5).linear(**self.fc1).relu()\n",
    "        x = x.dropout(0.5).linear(**self.fc2).relu()\n",
    "        x = x.linear(**self.fc3).log_softmax()\n",
    "        return x"
   ]
  },
  {
   "cell_type": "code",
   "execution_count": 3,
   "metadata": {},
   "outputs": [],
   "source": [
    "def transform(x):\n",
    "    x = [[Image.fromarray(z).resize((227, 227)) for z in y] for y in x]\n",
    "    x = np.stack([np.stack([np.asarray(z) for z in y], axis=0) for y in x], axis=0)\n",
    "    x = x.reshape(-1, 3, 227, 227)\n",
    "    return x"
   ]
  },
  {
   "cell_type": "code",
   "execution_count": 4,
   "metadata": {
    "tags": []
   },
   "outputs": [
    {
     "name": "stderr",
     "output_type": "stream",
     "text": [
      "loss 1.31 accuracy 0.50: 100%|█████████████████████████████████████████| 1000/1000 [47:46<00:00,  2.87s/it]\n",
      "100%|██████████████████████████████████████████████████████████████████████| 79/79 [01:14<00:00,  1.07it/s]\n"
     ]
    },
    {
     "name": "stdout",
     "output_type": "stream",
     "text": [
      "test set accuracy is 0.508400\n"
     ]
    },
    {
     "name": "stderr",
     "output_type": "stream",
     "text": [
      "loss 0.86 accuracy 0.69: 100%|█████████████████████████████████████████| 1000/1000 [48:33<00:00,  2.91s/it]\n",
      "100%|██████████████████████████████████████████████████████████████████████| 79/79 [01:14<00:00,  1.07it/s]\n"
     ]
    },
    {
     "name": "stdout",
     "output_type": "stream",
     "text": [
      "test set accuracy is 0.646100\n"
     ]
    },
    {
     "name": "stderr",
     "output_type": "stream",
     "text": [
      "loss 0.57 accuracy 0.78: 100%|█████████████████████████████████████████| 1000/1000 [48:39<00:00,  2.92s/it]\n",
      "100%|██████████████████████████████████████████████████████████████████████| 79/79 [01:15<00:00,  1.04it/s]\n"
     ]
    },
    {
     "name": "stdout",
     "output_type": "stream",
     "text": [
      "test set accuracy is 0.745600\n"
     ]
    },
    {
     "name": "stderr",
     "output_type": "stream",
     "text": [
      "loss 0.42 accuracy 0.88: 100%|█████████████████████████████████████████| 1000/1000 [48:27<00:00,  2.91s/it]\n",
      "100%|██████████████████████████████████████████████████████████████████████| 79/79 [01:14<00:00,  1.06it/s]\n"
     ]
    },
    {
     "name": "stdout",
     "output_type": "stream",
     "text": [
      "test set accuracy is 0.762300\n"
     ]
    },
    {
     "name": "stderr",
     "output_type": "stream",
     "text": [
      "loss 0.49 accuracy 0.83: 100%|█████████████████████████████████████████| 1000/1000 [48:11<00:00,  2.89s/it]\n",
      "100%|██████████████████████████████████████████████████████████████████████| 79/79 [01:15<00:00,  1.04it/s]\n"
     ]
    },
    {
     "name": "stdout",
     "output_type": "stream",
     "text": [
      "test set accuracy is 0.777500\n"
     ]
    },
    {
     "name": "stderr",
     "output_type": "stream",
     "text": [
      "loss 0.90 accuracy 0.73: 100%|█████████████████████████████████████████| 1000/1000 [48:42<00:00,  2.92s/it]\n",
      "100%|██████████████████████████████████████████████████████████████████████| 79/79 [01:15<00:00,  1.04it/s]\n"
     ]
    },
    {
     "name": "stdout",
     "output_type": "stream",
     "text": [
      "test set accuracy is 0.800000\n"
     ]
    },
    {
     "name": "stderr",
     "output_type": "stream",
     "text": [
      "loss 0.44 accuracy 0.86: 100%|█████████████████████████████████████████| 1000/1000 [48:43<00:00,  2.92s/it]\n",
      "100%|██████████████████████████████████████████████████████████████████████| 79/79 [01:15<00:00,  1.04it/s]\n"
     ]
    },
    {
     "name": "stdout",
     "output_type": "stream",
     "text": [
      "test set accuracy is 0.812800\n"
     ]
    },
    {
     "name": "stderr",
     "output_type": "stream",
     "text": [
      "loss 0.30 accuracy 0.89: 100%|█████████████████████████████████████████| 1000/1000 [48:42<00:00,  2.92s/it]\n",
      "100%|██████████████████████████████████████████████████████████████████████| 79/79 [01:15<00:00,  1.04it/s]\n"
     ]
    },
    {
     "name": "stdout",
     "output_type": "stream",
     "text": [
      "test set accuracy is 0.818000\n"
     ]
    },
    {
     "name": "stderr",
     "output_type": "stream",
     "text": [
      "loss 0.30 accuracy 0.88: 100%|█████████████████████████████████████████| 1000/1000 [48:04<00:00,  2.88s/it]\n",
      "100%|██████████████████████████████████████████████████████████████████████| 79/79 [01:15<00:00,  1.04it/s]\n"
     ]
    },
    {
     "name": "stdout",
     "output_type": "stream",
     "text": [
      "test set accuracy is 0.817700\n"
     ]
    },
    {
     "name": "stderr",
     "output_type": "stream",
     "text": [
      "loss 0.37 accuracy 0.89: 100%|█████████████████████████████████████████| 1000/1000 [48:28<00:00,  2.91s/it]\n",
      "100%|██████████████████████████████████████████████████████████████████████| 79/79 [01:15<00:00,  1.04it/s]"
     ]
    },
    {
     "name": "stdout",
     "output_type": "stream",
     "text": [
      "test set accuracy is 0.821900\n"
     ]
    },
    {
     "name": "stderr",
     "output_type": "stream",
     "text": [
      "\n"
     ]
    }
   ],
   "source": [
    "(X_train, Y_train), (X_test, Y_test) = fetch_cifar(), fetch_cifar(train=False)\n",
    "model = AlexNet()\n",
    "learning_rate = 0.005\n",
    "for _ in range(10):\n",
    "    optimizer = optim.SGD(optim.get_parameters(model), lr=learning_rate, momentum=0.9)\n",
    "    train(model, X_train, Y_train, optimizer, 1000, BS=64, transform=transform)\n",
    "    evaluate(model, X_test, Y_test, transform=transform)\n",
    "    learning_rate *= 0.6"
   ]
  }
 ],
 "metadata": {
  "kernelspec": {
   "display_name": "Python 3 (ipykernel)",
   "language": "python",
   "name": "python3"
  },
  "language_info": {
   "codemirror_mode": {
    "name": "ipython",
    "version": 3
   },
   "file_extension": ".py",
   "mimetype": "text/x-python",
   "name": "python",
   "nbconvert_exporter": "python",
   "pygments_lexer": "ipython3",
   "version": "3.11.2"
  }
 },
 "nbformat": 4,
 "nbformat_minor": 4
}
