{
 "cells": [
  {
   "cell_type": "code",
   "execution_count": 1,
   "metadata": {},
   "outputs": [],
   "source": [
    "import numpy as np\n",
    "from tinygrad import nn, Tensor\n",
    "from tinygrad.nn.state import get_parameters\n",
    "from tinygrad.nn.datasets import mnist\n",
    "from training import train, evaluate"
   ]
  },
  {
   "cell_type": "code",
   "execution_count": 2,
   "metadata": {},
   "outputs": [],
   "source": [
    "class ConvNet:\n",
    "    def __init__(self):\n",
    "        self.conv1 = nn.Conv2d(1, 6, 5)\n",
    "        self.conv2 = nn.Conv2d(6, 16, 5)\n",
    "        self.linear = Tensor.scaled_uniform(256, 10)\n",
    "    \n",
    "    def __call__(self, x):\n",
    "        x = self.conv1(x).relu().max_pool2d(kernel_size=(2, 2))\n",
    "        x = self.conv2(x).relu().max_pool2d(kernel_size=(2, 2))\n",
    "        x = x.reshape(x.shape[0], -1).dot(self.linear)\n",
    "        return x"
   ]
  },
  {
   "cell_type": "code",
   "execution_count": 3,
   "metadata": {},
   "outputs": [
    {
     "name": "stderr",
     "output_type": "stream",
     "text": [
      "loss 0.19 accuracy 0.96: 100%|██████████████████████████████████████████████████████████████████████████████████████████████████████████████████████████████████████████████████| 500/500 [00:01<00:00, 305.15it/s]\n",
      "100%|█████████████████████████████████████████████████████████████████████████████████████████████████████████████████████████████████████████████████████████████████████████████| 79/79 [00:00<00:00, 462.72it/s]"
     ]
    },
    {
     "name": "stdout",
     "output_type": "stream",
     "text": [
      "test set accuracy is 0.961200\n"
     ]
    },
    {
     "name": "stderr",
     "output_type": "stream",
     "text": [
      "\n"
     ]
    }
   ],
   "source": [
    "X_train, Y_train, X_test, Y_test = mnist()\n",
    "X_train = X_train.numpy().astype(np.float32)\n",
    "Y_train = Y_train.numpy().astype(np.int8)\n",
    "X_test = X_test.numpy().astype(np.float32)\n",
    "Y_test = Y_test.numpy().astype(np.int8)\n",
    "\n",
    "model = ConvNet()\n",
    "optimizer = nn.optim.Adam(get_parameters(model), lr=0.005)\n",
    "train(model, X_train, Y_train, optimizer, 500, BS=256)\n",
    "evaluate(model, X_test, Y_test);"
   ]
  },
  {
   "cell_type": "code",
   "execution_count": null,
   "metadata": {},
   "outputs": [],
   "source": []
  }
 ],
 "metadata": {
  "kernelspec": {
   "display_name": "Python 3 (ipykernel)",
   "language": "python",
   "name": "python3"
  },
  "language_info": {
   "codemirror_mode": {
    "name": "ipython",
    "version": 3
   },
   "file_extension": ".py",
   "mimetype": "text/x-python",
   "name": "python",
   "nbconvert_exporter": "python",
   "pygments_lexer": "ipython3",
   "version": "3.10.12"
  },
  "vscode": {
   "interpreter": {
    "hash": "7e1998ff7f8aa20ada591c520b972326324e5ea05489af9e422744c7c09f6dad"
   }
  }
 },
 "nbformat": 4,
 "nbformat_minor": 4
}
