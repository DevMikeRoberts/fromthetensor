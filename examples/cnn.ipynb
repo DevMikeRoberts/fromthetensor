{
 "cells": [
  {
   "cell_type": "code",
   "execution_count": 1,
   "metadata": {},
   "outputs": [],
   "source": [
    "from tinygrad.nn import Conv2d, Linear, optim\n",
    "from datasets import fetch_mnist\n",
    "from extra.training import train, evaluate"
   ]
  },
  {
   "cell_type": "code",
   "execution_count": 2,
   "metadata": {},
   "outputs": [],
   "source": [
    "class ConvNet:\n",
    "    def __init__(self):\n",
    "        self.conv1 = Conv2d(1, 6, 5)\n",
    "        self.conv2 = Conv2d(6, 16, 5)\n",
    "        self.fc = Linear(256, 10)\n",
    "    \n",
    "    def __call__(self, x):\n",
    "        x = self.conv1(x).relu().max_pool2d(kernel_size=(2, 2))\n",
    "        x = self.conv2(x).relu().max_pool2d(kernel_size=(2, 2))\n",
    "        x = x.reshape(x.shape[0], -1)\n",
    "        x = self.fc(x).log_softmax()\n",
    "        return x"
   ]
  },
  {
   "cell_type": "code",
   "execution_count": 3,
   "metadata": {},
   "outputs": [
    {
     "name": "stderr",
     "output_type": "stream",
     "text": [
      "loss 0.03 accuracy 0.99: 100%|██████████| 500/500 [00:41<00:00, 12.08it/s]\n",
      "100%|██████████| 79/79 [00:01<00:00, 54.82it/s]\n"
     ]
    },
    {
     "name": "stdout",
     "output_type": "stream",
     "text": [
      "test set accuracy is 0.981900\n"
     ]
    }
   ],
   "source": [
    "X_train, Y_train, X_test, Y_test = fetch_mnist()\n",
    "X_train = X_train.reshape(-1, 1, 28, 28) / 255.0\n",
    "X_test = X_test.reshape(-1, 1, 28, 28) / 255.0\n",
    "\n",
    "model = ConvNet()\n",
    "optimizer = optim.Adam(optim.get_parameters(model), lr=0.01)\n",
    "train(model, X_train, Y_train, optimizer, 500, BS=256)\n",
    "evaluate(model, X_test, Y_test);"
   ]
  },
  {
   "cell_type": "code",
   "execution_count": null,
   "metadata": {},
   "outputs": [],
   "source": []
  }
 ],
 "metadata": {
  "kernelspec": {
   "display_name": "Python 3 (ipykernel)",
   "language": "python",
   "name": "python3"
  },
  "language_info": {
   "codemirror_mode": {
    "name": "ipython",
    "version": 3
   },
   "file_extension": ".py",
   "mimetype": "text/x-python",
   "name": "python",
   "nbconvert_exporter": "python",
   "pygments_lexer": "ipython3",
   "version": "3.10.10"
  },
  "vscode": {
   "interpreter": {
    "hash": "7e1998ff7f8aa20ada591c520b972326324e5ea05489af9e422744c7c09f6dad"
   }
  }
 },
 "nbformat": 4,
 "nbformat_minor": 4
}
