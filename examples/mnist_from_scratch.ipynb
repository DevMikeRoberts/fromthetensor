{
 "cells": [
  {
   "attachments": {},
   "cell_type": "markdown",
   "metadata": {},
   "source": [
    "# MNIST from Scratch\n",
    "\n",
    "Can I train a model to recognize handwritten digits using numpy?\n",
    "\n",
    "1. Load the MNIST dataset from the web and store as NumPy arrays\n",
    "2. Train a simple model to solve MNIST using PyTorch\n",
    "3. Do the same with NumPy by implementing various ML algorithms"
   ]
  },
  {
   "cell_type": "code",
   "execution_count": 1,
   "metadata": {},
   "outputs": [
    {
     "name": "stderr",
     "output_type": "stream",
     "text": [
      "triton backend not available No module named 'pycuda'\n"
     ]
    }
   ],
   "source": [
    "from pathlib import Path\n",
    "import numpy as np\n",
    "import pandas as pd\n",
    "from tqdm import trange\n",
    "from tinygrad.tensor import Tensor\n",
    "from tinygrad.nn.optim import Adam, get_parameters\n",
    "from datasets import fetch_mnist\n",
    "from extra.training import train, evaluate\n",
    "np.random.seed(1337)\n",
    "Tensor.manual_seed(1337)"
   ]
  },
  {
   "attachments": {},
   "cell_type": "markdown",
   "metadata": {},
   "source": [
    "Load mnist dataset"
   ]
  },
  {
   "cell_type": "code",
   "execution_count": 2,
   "metadata": {},
   "outputs": [],
   "source": [
    "X_train, Y_train, X_test, Y_test = fetch_mnist()\n",
    "X_train /= 255.0\n",
    "X_test /= 255.0"
   ]
  },
  {
   "attachments": {},
   "cell_type": "markdown",
   "metadata": {},
   "source": [
    "Solve with PyTorch"
   ]
  },
  {
   "cell_type": "code",
   "execution_count": 3,
   "metadata": {},
   "outputs": [],
   "source": [
    "class NeuralNet:\n",
    "    def __init__(self):\n",
    "        super().__init__()\n",
    "        self.layer1 = Tensor.scaled_uniform(784, 128)\n",
    "        self.layer2 = Tensor.scaled_uniform(128, 10)\n",
    "    \n",
    "    def forward(self, x: Tensor) -> Tensor:\n",
    "        x = x.reshape(-1, 28 * 28)\n",
    "        x = x.dot(self.layer1).relu()\n",
    "        x = x.dot(self.layer2).logsoftmax()\n",
    "        return x"
   ]
  },
  {
   "cell_type": "code",
   "execution_count": 4,
   "metadata": {},
   "outputs": [],
   "source": [
    "iterations = 1000\n",
    "batch_size = 256\n",
    "learning_rate = 0.001\n",
    "model = NeuralNet()\n",
    "optimizer = Adam(get_parameters(model), lr=learning_rate)"
   ]
  },
  {
   "cell_type": "code",
   "execution_count": 5,
   "metadata": {},
   "outputs": [
    {
     "name": "stderr",
     "output_type": "stream",
     "text": [
      "loss 0.16 accuracy 0.95: 100%|██████████| 1000/1000 [00:29<00:00, 33.90it/s]\n"
     ]
    }
   ],
   "source": [
    "# training loop\n",
    "train(model, X_train, Y_train, optimizer, iterations)"
   ]
  },
  {
   "cell_type": "code",
   "execution_count": 6,
   "metadata": {},
   "outputs": [
    {
     "name": "stderr",
     "output_type": "stream",
     "text": [
      "100%|██████████| 79/79 [00:00<00:00, 157.72it/s]"
     ]
    },
    {
     "name": "stdout",
     "output_type": "stream",
     "text": [
      "test set accuracy is 0.948000\n"
     ]
    },
    {
     "name": "stderr",
     "output_type": "stream",
     "text": [
      "\n"
     ]
    }
   ],
   "source": [
    "# test accuracy\n",
    "evaluate(model, X_test, Y_test);"
   ]
  },
  {
   "attachments": {},
   "cell_type": "markdown",
   "metadata": {},
   "source": [
    "Sanity check with NumPy"
   ]
  },
  {
   "cell_type": "code",
   "execution_count": 7,
   "metadata": {},
   "outputs": [],
   "source": [
    "w1 = model.layer1.detach().numpy().astype(np.float64)\n",
    "w2 = model.layer2.detach().numpy().astype(np.float64)"
   ]
  },
  {
   "cell_type": "code",
   "execution_count": 8,
   "metadata": {},
   "outputs": [],
   "source": [
    "def forward(x: np.ndarray) -> np.ndarray:\n",
    "    x = x @ w1\n",
    "    x = np.maximum(x, 0)\n",
    "    x = x @ w2\n",
    "    return x"
   ]
  },
  {
   "cell_type": "code",
   "execution_count": 9,
   "metadata": {},
   "outputs": [
    {
     "data": {
      "text/plain": [
       "0.948"
      ]
     },
     "execution_count": 9,
     "metadata": {},
     "output_type": "execute_result"
    }
   ],
   "source": [
    "pred = forward(X_test).argmax(axis=1)\n",
    "accuracy = (pred == Y_test).mean()\n",
    "accuracy"
   ]
  },
  {
   "attachments": {},
   "cell_type": "markdown",
   "metadata": {},
   "source": [
    "Now solve with NumPy"
   ]
  },
  {
   "cell_type": "code",
   "execution_count": 10,
   "metadata": {},
   "outputs": [],
   "source": [
    "def layer_init(m: int, h: int) -> np.ndarray:\n",
    "    weights = np.random.uniform(-1., 1., size=(m, h)) / np.sqrt(m * h)\n",
    "    return weights"
   ]
  },
  {
   "cell_type": "code",
   "execution_count": 11,
   "metadata": {},
   "outputs": [],
   "source": [
    "w1 = layer_init(784, 128)\n",
    "w2 = layer_init(128, 10)"
   ]
  },
  {
   "cell_type": "code",
   "execution_count": 12,
   "metadata": {},
   "outputs": [],
   "source": [
    "def saved_forward(x0: np.ndarray) -> tuple[np.ndarray]:\n",
    "    x1 = x0 @ w1  # batch_size * 128\n",
    "    x2 = np.maximum(x1, 0)  # batch_size * 128, relu\n",
    "    x3 = x2 @ w2  # batch_size * 10\n",
    "    x3 = np.exp(x3) / np.sum(np.exp(x3), axis=1, keepdims=True)  # softmax\n",
    "    return x3, x2, x1, x0"
   ]
  },
  {
   "cell_type": "code",
   "execution_count": 13,
   "metadata": {},
   "outputs": [],
   "source": [
    "def cross_entropy_loss(pred: np.ndarray, labels: np.ndarray) -> tuple[float, np.ndarray]:\n",
    "    # y is the one-hot enconding of labels\n",
    "    actual = np.zeros((labels.shape[0], 10))\n",
    "    actual[np.arange(labels.shape[0]), labels] = 1\n",
    "    # cross-entropy loss\n",
    "    loss = -np.mean(np.sum(actual * np.log(pred), axis=1))\n",
    "    error = pred - actual\n",
    "    return loss, error"
   ]
  },
  {
   "cell_type": "code",
   "execution_count": 14,
   "metadata": {},
   "outputs": [],
   "source": [
    "def backward(error: np.ndarray, xs: tuple[np.ndarray]) -> tuple[np.ndarray]:\n",
    "    x3, x2, x1, x0 = xs\n",
    "    dx3 = error  # batch_size * 10, derivative of squared_error\n",
    "    dw2 = x2.T @ dx3  # 128 * 10, derivative of dot\n",
    "    dx2 = dx3 @ w2.T  # batch_size * 128, derivative of dot\n",
    "    dx1 = (x1 > 0).astype(np.float64) * dx2 # 128 * batch_size\n",
    "    dw1 = x0.T @ dx1  # 784 * 128\n",
    "    assert dw2.shape == w2.shape\n",
    "    assert dw1.shape == w1.shape\n",
    "    return dw2, dw1"
   ]
  },
  {
   "cell_type": "code",
   "execution_count": 15,
   "metadata": {},
   "outputs": [],
   "source": [
    "def update_weights(dws: tuple[np.ndarray], lr: float = 1e-3) -> tuple[np.ndarray]:\n",
    "    global w1, w2\n",
    "    ws = (w2, w1)\n",
    "    # SGD\n",
    "    for wi, dwi in zip(ws, dws):\n",
    "        wi -= lr * dwi\n",
    "    return ws"
   ]
  },
  {
   "cell_type": "code",
   "execution_count": 16,
   "metadata": {},
   "outputs": [
    {
     "name": "stderr",
     "output_type": "stream",
     "text": [
      "Iteration 999 loss 0.17: 100%|██████████| 1000/1000 [00:05<00:00, 175.51it/s]\n"
     ]
    }
   ],
   "source": [
    "for i in (t := trange(iterations)):\n",
    "    sample = np.random.randint(0, len(X_train), size=batch_size)\n",
    "    xs = saved_forward(X_train[sample])\n",
    "    loss, error = cross_entropy_loss(xs[0], Y_train[sample].astype(int))\n",
    "    dws = backward(error, xs)\n",
    "    update_weights(dws, lr=learning_rate)\n",
    "    t.set_description(f\"Iteration {i} loss {loss.item():.2f}\")"
   ]
  },
  {
   "cell_type": "code",
   "execution_count": 17,
   "metadata": {},
   "outputs": [
    {
     "data": {
      "text/plain": [
       "0.9514"
      ]
     },
     "execution_count": 17,
     "metadata": {},
     "output_type": "execute_result"
    }
   ],
   "source": [
    "pred = forward(X_test).argmax(axis=1)\n",
    "accuracy = (pred == Y_test).mean()\n",
    "accuracy"
   ]
  },
  {
   "cell_type": "code",
   "execution_count": null,
   "metadata": {},
   "outputs": [],
   "source": []
  }
 ],
 "metadata": {
  "kernelspec": {
   "display_name": "Python 3",
   "language": "python",
   "name": "python3"
  },
  "language_info": {
   "codemirror_mode": {
    "name": "ipython",
    "version": 3
   },
   "file_extension": ".py",
   "mimetype": "text/x-python",
   "name": "python",
   "nbconvert_exporter": "python",
   "pygments_lexer": "ipython3",
   "version": "3.10.10"
  },
  "orig_nbformat": 4,
  "vscode": {
   "interpreter": {
    "hash": "7e1998ff7f8aa20ada591c520b972326324e5ea05489af9e422744c7c09f6dad"
   }
  }
 },
 "nbformat": 4,
 "nbformat_minor": 2
}
