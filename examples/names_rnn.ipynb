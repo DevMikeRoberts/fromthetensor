{
 "cells": [
  {
   "attachments": {},
   "cell_type": "markdown",
   "metadata": {},
   "source": [
    "A rough copy of https://jaketae.github.io/study/pytorch-rnn/"
   ]
  },
  {
   "cell_type": "code",
   "execution_count": 1,
   "metadata": {},
   "outputs": [
    {
     "name": "stdout",
     "output_type": "stream",
     "text": [
      "env: TORCH=1\n"
     ]
    }
   ],
   "source": [
    "%set_env TORCH=1"
   ]
  },
  {
   "cell_type": "code",
   "execution_count": 2,
   "metadata": {},
   "outputs": [],
   "source": [
    "import random\n",
    "from io import BytesIO\n",
    "from pathlib import Path\n",
    "from zipfile import ZipFile\n",
    "from string import ascii_letters\n",
    "import requests\n",
    "import numpy as np\n",
    "from unidecode import unidecode\n",
    "from tinygrad.tensor import Tensor\n",
    "from tinygrad.nn import optim\n",
    "from extra.training import sparse_categorical_crossentropy\n",
    "from sklearn.model_selection import train_test_split\n",
    "random.seed(1337)\n",
    "Tensor.manual_seed(1337)"
   ]
  },
  {
   "cell_type": "code",
   "execution_count": 3,
   "metadata": {},
   "outputs": [],
   "source": [
    "names_dir = Path(\"..\").resolve() / \"data\" / \"names\"\n",
    "data_dir = names_dir / \"data\" / \"names\""
   ]
  },
  {
   "cell_type": "code",
   "execution_count": 4,
   "metadata": {},
   "outputs": [],
   "source": [
    "if not data_dir.is_dir():\n",
    "    names_dir.mkdir(parents=True, exist_ok=True)\n",
    "    response = requests.get(\"https://download.pytorch.org/tutorial/data.zip\")\n",
    "    assert response.status_code == 200\n",
    "    zip_file = BytesIO(response.content)\n",
    "    with ZipFile(zip_file, \"r\") as zip_ref:\n",
    "        zip_ref.extractall(names_dir)"
   ]
  },
  {
   "cell_type": "code",
   "execution_count": 5,
   "metadata": {},
   "outputs": [],
   "source": [
    "lang2label = {file_path.stem: i for i, file_path in enumerate(data_dir.iterdir())}\n",
    "num_langs = len(lang2label)"
   ]
  },
  {
   "cell_type": "code",
   "execution_count": 6,
   "metadata": {},
   "outputs": [],
   "source": [
    "char2idx = {letter: i for i, letter in enumerate(ascii_letters + \" .,:;-'\")}\n",
    "num_letters = len(char2idx)"
   ]
  },
  {
   "cell_type": "code",
   "execution_count": 7,
   "metadata": {},
   "outputs": [],
   "source": [
    "def name2array(name: str) -> Tensor:\n",
    "    array = np.zeros((len(name), 1, num_letters))\n",
    "    for i, char in enumerate(name):\n",
    "        array[i][0][char2idx[char]] = 1\n",
    "    return array"
   ]
  },
  {
   "cell_type": "code",
   "execution_count": 8,
   "metadata": {},
   "outputs": [],
   "source": [
    "input_names, target_langs = [], []\n",
    "\n",
    "for file_path in data_dir.iterdir():\n",
    "    with file_path.open(\"r\") as file:\n",
    "        for name in [unidecode(line.rstrip()) for line in file]:\n",
    "            if all(letter in char2idx for letter in name):\n",
    "                input_names.append(name2array(name))            \n",
    "                target_langs.append(lang2label[file_path.stem])"
   ]
  },
  {
   "cell_type": "code",
   "execution_count": 9,
   "metadata": {},
   "outputs": [],
   "source": [
    "train_idx, test_idx = train_test_split(range(len(target_langs)), test_size=0.1, shuffle=True, stratify=target_langs)\n",
    "train_dataset = [(Tensor(input_names[i]), np.array(target_langs[i])) for i in train_idx]\n",
    "test_dataset = [(Tensor(input_names[i]), np.array(target_langs[i])) for i in test_idx]"
   ]
  },
  {
   "cell_type": "code",
   "execution_count": 10,
   "metadata": {},
   "outputs": [],
   "source": [
    "class RecurrentNet:\n",
    "    def __init__(self, input_size: int, hidden_size: int, output_size: int):\n",
    "        self.hidden_size = hidden_size\n",
    "        self.in2hidden = Tensor.scaled_uniform(input_size + hidden_size, hidden_size)\n",
    "        self.in2output = Tensor.scaled_uniform(input_size + hidden_size, output_size)\n",
    "    \n",
    "    def __call__(self, x: Tensor, hidden_state: Tensor) -> Tensor:\n",
    "        x = Tensor.cat(x, hidden_state, dim=1)\n",
    "        hidden = x.dot(self.in2hidden).sigmoid()\n",
    "        output = x.dot(self.in2output).log_softmax()\n",
    "        return output, hidden\n",
    "    \n",
    "    def init_hidden(self):\n",
    "        hidden = Tensor.zeros(1, self.hidden_size)\n",
    "        return hidden"
   ]
  },
  {
   "cell_type": "code",
   "execution_count": 11,
   "metadata": {},
   "outputs": [],
   "source": [
    "model = RecurrentNet(num_letters, 256, num_langs)\n",
    "criterion = sparse_categorical_crossentropy\n",
    "optimizer = optim.Adam(optim.get_parameters(model), lr=0.001)"
   ]
  },
  {
   "cell_type": "code",
   "execution_count": 12,
   "metadata": {},
   "outputs": [
    {
     "name": "stdout",
     "output_type": "stream",
     "text": [
      "epoch 1/2 step 6000/18063 loss 0.011229\n",
      "epoch 1/2 step 12000/18063 loss 0.021270\n",
      "epoch 1/2 step 18000/18063 loss 2.832460\n",
      "epoch 2/2 step 6000/18063 loss 0.451736\n",
      "epoch 2/2 step 12000/18063 loss 0.000200\n",
      "epoch 2/2 step 18000/18063 loss 0.435729\n"
     ]
    }
   ],
   "source": [
    "num_epochs = 2\n",
    "plot_interval = 6000\n",
    "\n",
    "for epoch in range(num_epochs):\n",
    "    random.shuffle(train_dataset)\n",
    "    for i, (name, label) in enumerate(train_dataset):\n",
    "        hidden_state = model.init_hidden()\n",
    "        for char in name:\n",
    "            output, hidden_state = model(char, hidden_state)\n",
    "        loss = criterion(output, label)\n",
    "        optimizer.zero_grad()\n",
    "        loss.backward()\n",
    "        optimizer.step()\n",
    "        if (i + 1) % plot_interval == 0:\n",
    "            print(f\"epoch {epoch+1}/{num_epochs} step {i+1}/{len(train_dataset)} loss {loss.numpy()[0]:2f}\")"
   ]
  },
  {
   "cell_type": "code",
   "execution_count": 13,
   "metadata": {},
   "outputs": [
    {
     "name": "stdout",
     "output_type": "stream",
     "text": [
      "test set accuracy is 73.1938%\n"
     ]
    }
   ],
   "source": [
    "num_correct = 0\n",
    "\n",
    "for name, label in test_dataset:\n",
    "    hidden_state = model.init_hidden()\n",
    "    for char in name:\n",
    "        output, hidden_state = model(char, hidden_state)\n",
    "    pred = output.cpu().numpy().argmax()\n",
    "    num_correct += (pred == label).sum()\n",
    "\n",
    "print(f\"test set accuracy is {num_correct / len(test_dataset) * 100:.4f}%\")"
   ]
  },
  {
   "cell_type": "code",
   "execution_count": 14,
   "metadata": {},
   "outputs": [],
   "source": [
    "label2lang = {label: lang for lang, label in lang2label.items()}\n",
    "\n",
    "def predict(name):\n",
    "    tensor_name = Tensor(name2array(name))\n",
    "    hidden_state = model.init_hidden()\n",
    "    for char in tensor_name:\n",
    "        output, hidden_state = model(char, hidden_state)\n",
    "    pred = output.cpu().numpy().argmax()\n",
    "    return label2lang[pred]"
   ]
  },
  {
   "cell_type": "code",
   "execution_count": 15,
   "metadata": {},
   "outputs": [
    {
     "data": {
      "text/plain": [
       "'English'"
      ]
     },
     "execution_count": 15,
     "metadata": {},
     "output_type": "execute_result"
    }
   ],
   "source": [
    "predict(\"Jake\")"
   ]
  },
  {
   "cell_type": "code",
   "execution_count": 16,
   "metadata": {},
   "outputs": [
    {
     "data": {
      "text/plain": [
       "'Korean'"
      ]
     },
     "execution_count": 16,
     "metadata": {},
     "output_type": "execute_result"
    }
   ],
   "source": [
    "predict(\"Qin\")"
   ]
  },
  {
   "cell_type": "code",
   "execution_count": 17,
   "metadata": {},
   "outputs": [
    {
     "data": {
      "text/plain": [
       "'Italian'"
      ]
     },
     "execution_count": 17,
     "metadata": {},
     "output_type": "execute_result"
    }
   ],
   "source": [
    "predict(\"Fernando\")"
   ]
  },
  {
   "cell_type": "code",
   "execution_count": 18,
   "metadata": {},
   "outputs": [
    {
     "data": {
      "text/plain": [
       "'Russian'"
      ]
     },
     "execution_count": 18,
     "metadata": {},
     "output_type": "execute_result"
    }
   ],
   "source": [
    "predict(\"Demirkan\")"
   ]
  }
 ],
 "metadata": {
  "kernelspec": {
   "display_name": "Python 3",
   "language": "python",
   "name": "python3"
  },
  "language_info": {
   "codemirror_mode": {
    "name": "ipython",
    "version": 3
   },
   "file_extension": ".py",
   "mimetype": "text/x-python",
   "name": "python",
   "nbconvert_exporter": "python",
   "pygments_lexer": "ipython3",
   "version": "3.10.10"
  },
  "orig_nbformat": 4,
  "vscode": {
   "interpreter": {
    "hash": "7e1998ff7f8aa20ada591c520b972326324e5ea05489af9e422744c7c09f6dad"
   }
  }
 },
 "nbformat": 4,
 "nbformat_minor": 2
}
