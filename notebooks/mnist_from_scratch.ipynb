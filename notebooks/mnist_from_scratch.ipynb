{
 "cells": [
  {
   "attachments": {},
   "cell_type": "markdown",
   "metadata": {},
   "source": [
    "# MNIST from Scratch\n",
    "\n",
    "Can I train a model to recognize handwritten digits using numpy?\n",
    "\n",
    "1. Load the MNIST dataset from the web and store as NumPy arrays\n",
    "2. Train a simple model to solve MNIST using PyTorch\n",
    "3. Do the same with NumPy by implementing various ML algorithms"
   ]
  },
  {
   "cell_type": "code",
   "execution_count": 1,
   "metadata": {},
   "outputs": [],
   "source": [
    "from pathlib import Path\n",
    "\n",
    "import numpy as np\n",
    "import pandas as pd\n",
    "from tqdm import trange\n",
    "from torch import nn, Tensor, optim"
   ]
  },
  {
   "attachments": {},
   "cell_type": "markdown",
   "metadata": {},
   "source": [
    "Load data from CSV files"
   ]
  },
  {
   "cell_type": "code",
   "execution_count": 2,
   "metadata": {},
   "outputs": [],
   "source": [
    "def load_dataset(data_dir: Path, file_name: str) -> np.ndarray:\n",
    "    # can be done with numpy.genfromtxt(), but is much slower\n",
    "    dataset = pd.read_csv(data_dir / file_name)\n",
    "    X = dataset.drop(\"label\", axis=1).to_numpy() / 255.0\n",
    "    y = dataset[\"label\"].to_numpy()\n",
    "    return X, y"
   ]
  },
  {
   "cell_type": "code",
   "execution_count": 3,
   "metadata": {},
   "outputs": [],
   "source": [
    "mnist_path = Path(\".\").resolve(strict=True).parent / \"data\" / \"mnist\"\n",
    "X_train, y_train = load_dataset(mnist_path, \"mnist_train.csv\")\n",
    "X_test, y_test = load_dataset(mnist_path, \"mnist_test.csv\")"
   ]
  },
  {
   "attachments": {},
   "cell_type": "markdown",
   "metadata": {},
   "source": [
    "Solve with PyTorch"
   ]
  },
  {
   "cell_type": "code",
   "execution_count": 4,
   "metadata": {},
   "outputs": [],
   "source": [
    "class NeuralNet(nn.Module):\n",
    "\n",
    "    def __init__(self):\n",
    "        super().__init__()\n",
    "        self.layer1 = nn.Linear(784, 256, bias=False)\n",
    "        self.layer2 = nn.Linear(256, 64, bias=False)\n",
    "        self.layer3 = nn.Linear(64, 10, bias=False)\n",
    "        self.act = nn.ReLU()\n",
    "    \n",
    "    def forward(self, x: Tensor) -> Tensor:\n",
    "        x = x.view(-1, 28 * 28)\n",
    "        x = self.act(self.layer1(x))\n",
    "        x = self.act(self.layer2(x))\n",
    "        x = self.layer3(x)\n",
    "        return x"
   ]
  },
  {
   "cell_type": "code",
   "execution_count": 5,
   "metadata": {},
   "outputs": [],
   "source": [
    "iterations = 3000\n",
    "batch_size = 64\n",
    "learning_rate = 0.001\n",
    "\n",
    "model = NeuralNet()\n",
    "loss_func = nn.CrossEntropyLoss()\n",
    "optimizer = optim.Adam(model.parameters(), lr=learning_rate)"
   ]
  },
  {
   "cell_type": "code",
   "execution_count": 6,
   "metadata": {},
   "outputs": [
    {
     "name": "stderr",
     "output_type": "stream",
     "text": [
      "Iteration 2999 loss 0.21: 100%|██████████| 3000/3000 [00:17<00:00, 169.57it/s]\n"
     ]
    }
   ],
   "source": [
    "# training loop\n",
    "for i in (t := trange(iterations)):\n",
    "    sample = np.random.randint(0, len(X_train), size=batch_size)\n",
    "    out = model(Tensor(X_train[sample]))\n",
    "    loss = loss_func(out, Tensor(y_train[sample]).long())\n",
    "    loss.backward()\n",
    "    optimizer.step()\n",
    "    model.zero_grad()\n",
    "    t.set_description(f\"Iteration {i} loss {loss.item():.2f}\")"
   ]
  },
  {
   "cell_type": "code",
   "execution_count": 7,
   "metadata": {},
   "outputs": [
    {
     "data": {
      "text/plain": [
       "0.9769999980926514"
      ]
     },
     "execution_count": 7,
     "metadata": {},
     "output_type": "execute_result"
    }
   ],
   "source": [
    "# test accuracy\n",
    "pred = model(Tensor(X_test)).argmax(dim=1)\n",
    "accuracy = (pred == Tensor(y_test)).float().mean().item()\n",
    "accuracy"
   ]
  },
  {
   "attachments": {},
   "cell_type": "markdown",
   "metadata": {},
   "source": [
    "Now with NumPy"
   ]
  },
  {
   "cell_type": "code",
   "execution_count": 12,
   "metadata": {},
   "outputs": [],
   "source": [
    "w1 = model.layer1.weight.detach().numpy()\n",
    "w2 = model.layer2.weight.detach().numpy()\n",
    "w3 = model.layer3.weight.detach().numpy()"
   ]
  },
  {
   "cell_type": "code",
   "execution_count": 16,
   "metadata": {},
   "outputs": [],
   "source": [
    "def relu(x: np.ndarray) -> np.ndarray:\n",
    "    x = np.maximum(x, 0)\n",
    "    return x"
   ]
  },
  {
   "cell_type": "code",
   "execution_count": 38,
   "metadata": {},
   "outputs": [],
   "source": [
    "def forward(x: np.ndarray) -> np.ndarray:\n",
    "    print(x.shape, w1.shape, w2.shape)\n",
    "    x = relu(x.dot(w1.T))\n",
    "    x = relu(x.dot(w2.T))\n",
    "    x = x.dot(w3.T)\n",
    "    return x"
   ]
  },
  {
   "cell_type": "code",
   "execution_count": 39,
   "metadata": {},
   "outputs": [
    {
     "name": "stdout",
     "output_type": "stream",
     "text": [
      "(10000, 784) (256, 784) (64, 256)\n"
     ]
    },
    {
     "ename": "ValueError",
     "evalue": "shapes (10,64) and (10000,64) not aligned: 64 (dim 1) != 10000 (dim 0)",
     "output_type": "error",
     "traceback": [
      "\u001b[0;31m---------------------------------------------------------------------------\u001b[0m",
      "\u001b[0;31mValueError\u001b[0m                                Traceback (most recent call last)",
      "Cell \u001b[0;32mIn [39], line 1\u001b[0m\n\u001b[0;32m----> 1\u001b[0m pred \u001b[39m=\u001b[39m forward(X_test)\u001b[39m.\u001b[39margmax(axis\u001b[39m=\u001b[39m\u001b[39m1\u001b[39m)\n\u001b[1;32m      2\u001b[0m accuracy \u001b[39m=\u001b[39m (pred \u001b[39m==\u001b[39m y_test)\n\u001b[1;32m      3\u001b[0m accuracy\n",
      "Cell \u001b[0;32mIn [38], line 5\u001b[0m, in \u001b[0;36mforward\u001b[0;34m(x)\u001b[0m\n\u001b[1;32m      3\u001b[0m x \u001b[39m=\u001b[39m relu(x\u001b[39m.\u001b[39mdot(w1\u001b[39m.\u001b[39mT))\n\u001b[1;32m      4\u001b[0m x \u001b[39m=\u001b[39m relu(x\u001b[39m.\u001b[39mdot(w2\u001b[39m.\u001b[39mT))\n\u001b[0;32m----> 5\u001b[0m x \u001b[39m=\u001b[39m w3\u001b[39m.\u001b[39;49mdot(x)\n\u001b[1;32m      6\u001b[0m \u001b[39mreturn\u001b[39;00m x\n",
      "\u001b[0;31mValueError\u001b[0m: shapes (10,64) and (10000,64) not aligned: 64 (dim 1) != 10000 (dim 0)"
     ]
    }
   ],
   "source": [
    "pred = forward(X_test).argmax(axis=1)\n",
    "accuracy = (pred == y_test)\n",
    "accuracy"
   ]
  },
  {
   "cell_type": "code",
   "execution_count": null,
   "metadata": {},
   "outputs": [],
   "source": []
  }
 ],
 "metadata": {
  "kernelspec": {
   "display_name": "Python 3",
   "language": "python",
   "name": "python3"
  },
  "language_info": {
   "codemirror_mode": {
    "name": "ipython",
    "version": 3
   },
   "file_extension": ".py",
   "mimetype": "text/x-python",
   "name": "python",
   "nbconvert_exporter": "python",
   "pygments_lexer": "ipython3",
   "version": "3.10.9"
  },
  "orig_nbformat": 4,
  "vscode": {
   "interpreter": {
    "hash": "aee8b7b246df8f9039afb4144a1f6fd8d2ca17a180786b69acc140d282b71a49"
   }
  }
 },
 "nbformat": 4,
 "nbformat_minor": 2
}
