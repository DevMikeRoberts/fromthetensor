{
 "cells": [
  {
   "attachments": {},
   "cell_type": "markdown",
   "metadata": {},
   "source": [
    "# MNIST from Scratch\n",
    "\n",
    "Can I train a model to recognize handwritten digits using numpy?\n",
    "\n",
    "1. Load the MNIST dataset from the web and store as numpy arrays\n",
    "2. Train a simple model to solve MNIST using PyTorch\n",
    "3. Do the same with numpy by implementing various ML algorithms"
   ]
  },
  {
   "cell_type": "code",
   "execution_count": 1,
   "metadata": {},
   "outputs": [],
   "source": [
    "from pathlib import Path\n",
    "\n",
    "import numpy as np\n",
    "import pandas as pd\n",
    "from tqdm import tqdm\n",
    "from torch import nn, Tensor, optim"
   ]
  },
  {
   "cell_type": "code",
   "execution_count": 2,
   "metadata": {},
   "outputs": [],
   "source": [
    "data_dir = Path(\".\").resolve(strict=True).parent / \"data\" / \"mnist\""
   ]
  },
  {
   "cell_type": "code",
   "execution_count": 3,
   "metadata": {},
   "outputs": [],
   "source": [
    "def load_dataset(split: str) -> np.ndarray:\n",
    "    dataset = pd.read_csv(data_dir / f\"mnist_{split}.csv\")\n",
    "    X = dataset.drop(\"label\", axis=1).to_numpy() / 255.0\n",
    "    y = dataset[\"label\"].to_numpy()\n",
    "    return X, y"
   ]
  },
  {
   "cell_type": "code",
   "execution_count": 4,
   "metadata": {},
   "outputs": [],
   "source": [
    "X_train, y_train = load_dataset(\"train\")\n",
    "X_test, y_test = load_dataset(\"test\")"
   ]
  },
  {
   "cell_type": "code",
   "execution_count": 5,
   "metadata": {},
   "outputs": [],
   "source": [
    "class NeuralNet(nn.Module):\n",
    "\n",
    "    def __init__(self):\n",
    "        super().__init__()\n",
    "        self.layer1 = nn.Linear(784, 256, bias=False)\n",
    "        self.layer2 = nn.Linear(256, 64, bias=False)\n",
    "        self.layer3 = nn.Linear(64, 10, bias=False)\n",
    "        self.act = nn.ReLU()\n",
    "    \n",
    "    def forward(self, x: Tensor) -> Tensor:\n",
    "        x = x.view(-1, 28 * 28)\n",
    "        x = self.act(self.layer1(x))\n",
    "        x = self.act(self.layer2(x))\n",
    "        x = self.layer3(x)\n",
    "        return x"
   ]
  },
  {
   "cell_type": "code",
   "execution_count": 6,
   "metadata": {},
   "outputs": [],
   "source": [
    "iterations = 3000\n",
    "batch_size = 64\n",
    "learning_rate = 0.005\n",
    "\n",
    "model = NeuralNet()\n",
    "loss_func = nn.CrossEntropyLoss()\n",
    "optimizer = optim.Adam(model.parameters(), lr=learning_rate)"
   ]
  },
  {
   "cell_type": "code",
   "execution_count": 7,
   "metadata": {},
   "outputs": [
    {
     "name": "stderr",
     "output_type": "stream",
     "text": [
      "Iteration 2999 loss 0.03: 100%|██████████| 3000/3000 [00:17<00:00, 169.71it/s]\n"
     ]
    }
   ],
   "source": [
    "# training loop\n",
    "for i in (t := tqdm(range(iterations))):\n",
    "    sample = np.random.randint(0, len(X_train), size=batch_size)\n",
    "    out = model(Tensor(X_train[sample]))\n",
    "    loss = loss_func(out, Tensor(y_train[sample]).long())\n",
    "    loss.backward()\n",
    "    optimizer.step()\n",
    "    model.zero_grad()\n",
    "    t.set_description(f\"Iteration {i} loss {loss.item():.2f}\")"
   ]
  },
  {
   "cell_type": "code",
   "execution_count": 8,
   "metadata": {},
   "outputs": [
    {
     "data": {
      "text/plain": [
       "0.9729999899864197"
      ]
     },
     "execution_count": 8,
     "metadata": {},
     "output_type": "execute_result"
    }
   ],
   "source": [
    "# test accuracy\n",
    "pred = model(Tensor(X_test)).argmax(dim=1)\n",
    "accuracy = (pred.argmax(dim=1) == Tensor(y_test)).float().mean().item()\n",
    "accuracy"
   ]
  },
  {
   "cell_type": "code",
   "execution_count": null,
   "metadata": {},
   "outputs": [],
   "source": []
  }
 ],
 "metadata": {
  "kernelspec": {
   "display_name": "Python 3",
   "language": "python",
   "name": "python3"
  },
  "language_info": {
   "codemirror_mode": {
    "name": "ipython",
    "version": 3
   },
   "file_extension": ".py",
   "mimetype": "text/x-python",
   "name": "python",
   "nbconvert_exporter": "python",
   "pygments_lexer": "ipython3",
   "version": "3.10.9"
  },
  "orig_nbformat": 4,
  "vscode": {
   "interpreter": {
    "hash": "aee8b7b246df8f9039afb4144a1f6fd8d2ca17a180786b69acc140d282b71a49"
   }
  }
 },
 "nbformat": 4,
 "nbformat_minor": 2
}
